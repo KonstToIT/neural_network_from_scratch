{
 "cells": [
  {
   "cell_type": "code",
   "execution_count": 154,
   "id": "30d35e92",
   "metadata": {},
   "outputs": [],
   "source": [
    "from PIL import Image,ImageDraw\n",
    "def draw_neural_network_scheme(arch,gor_gap=40, vert_gap=20):\n",
    "    width=500\n",
    "    height=500\n",
    "    image= Image.new(\"RGBA\",(width,height))\n",
    "    draw = ImageDraw.Draw(image)\n",
    "    start_coor_of_all_layers=[]\n",
    "    max_neurons_count=max(max(arch),len(arch))\n",
    "    m=max_neurons_count\n",
    "    diametr_gor=(image.height-gor_gap*(len(arch)-1))/len(arch)\n",
    "    diametr_vert=(image.height-vert_gap*(max(arch)-1))/max(arch)\n",
    "    diametr=min(diametr_gor,diametr_vert)\n",
    "    for z in range(len(arch)):#draw layers\n",
    "        whole_space=arch[z]*diametr+vert_gap*(arch[z]-1)\n",
    "        start_coor=(diametr*z+gor_gap*z,(image.height-whole_space)/2)\n",
    "        start_coor_of_all_layers.append([])\n",
    "        for i in range(arch[z]):\n",
    "            start_coor=(start_coor[0],(diametr+vert_gap)*i+(image.height-whole_space)/2)\n",
    "            start_coor_of_all_layers[z].append(start_coor)\n",
    "            end_coor=tuple(map(lambda x:x+diametr,start_coor))\n",
    "            draw.ellipse(([start_coor,end_coor]),width=3)   \n",
    "    for i in range(len(start_coor_of_all_layers)-1):#draw weights(connections between neurons)\n",
    "        for j in range(len(start_coor_of_all_layers[i])):\n",
    "            for k in range(len(start_coor_of_all_layers[i+1])):\n",
    "                draw.line([(start_coor_of_all_layers[i][j][0]+diametr,start_coor_of_all_layers[i][j][1]+diametr/2),\n",
    "                         (start_coor_of_all_layers[i+1][k][0],start_coor_of_all_layers[i+1][k][1]+diametr/2)],width=3)\n",
    "    image.save(\"neural_network.png\")"
   ]
  },
  {
   "cell_type": "code",
   "execution_count": 153,
   "id": "392878ba",
   "metadata": {},
   "outputs": [],
   "source": []
  },
  {
   "cell_type": "code",
   "execution_count": null,
   "id": "f2522475",
   "metadata": {},
   "outputs": [],
   "source": []
  },
  {
   "cell_type": "code",
   "execution_count": null,
   "id": "f85cd00a",
   "metadata": {},
   "outputs": [],
   "source": []
  },
  {
   "cell_type": "code",
   "execution_count": null,
   "id": "8e711e9f",
   "metadata": {},
   "outputs": [],
   "source": []
  },
  {
   "cell_type": "code",
   "execution_count": null,
   "id": "8eea4f37",
   "metadata": {},
   "outputs": [],
   "source": []
  },
  {
   "cell_type": "code",
   "execution_count": null,
   "id": "a90527ff",
   "metadata": {},
   "outputs": [],
   "source": []
  },
  {
   "cell_type": "code",
   "execution_count": null,
   "id": "22f899b5",
   "metadata": {},
   "outputs": [],
   "source": []
  },
  {
   "cell_type": "code",
   "execution_count": null,
   "id": "8b53a4f3",
   "metadata": {},
   "outputs": [],
   "source": []
  },
  {
   "cell_type": "code",
   "execution_count": null,
   "id": "13f8f87d",
   "metadata": {},
   "outputs": [],
   "source": []
  }
 ],
 "metadata": {
  "kernelspec": {
   "display_name": "Python 3 (ipykernel)",
   "language": "python",
   "name": "python3"
  },
  "language_info": {
   "codemirror_mode": {
    "name": "ipython",
    "version": 3
   },
   "file_extension": ".py",
   "mimetype": "text/x-python",
   "name": "python",
   "nbconvert_exporter": "python",
   "pygments_lexer": "ipython3",
   "version": "3.11.0"
  }
 },
 "nbformat": 4,
 "nbformat_minor": 5
}
